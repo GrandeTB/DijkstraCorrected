{
 "cells": [
  {
   "cell_type": "code",
   "execution_count": 9,
   "metadata": {},
   "outputs": [],
   "source": [
    "import numpy as np\n",
    "from scipy.sparse.csgraph import dijkstra"
   ]
  },
  {
   "cell_type": "code",
   "execution_count": 10,
   "metadata": {},
   "outputs": [],
   "source": [
    "nodes = {\n",
    "    \"Jiangmen\": 4, \n",
    "    \"Foshan\": 2, \n",
    "    \"Zhongshan\": 3, \n",
    "    \"Zhanjiang\": 9, \n",
    "    \"Guangzhou\": 1, \n",
    "    \"Huizhou\": 5, \n",
    "    \"Zhuhai\": 7, \n",
    "    \"Dongguan\": 0, \n",
    "    \"Shantou\": 6, \n",
    "    \"Shenzhen\": 8,\n",
    "}"
   ]
  },
  {
   "cell_type": "code",
   "execution_count": 11,
   "metadata": {},
   "outputs": [],
   "source": [
    "lines = {\n",
    "    (4, 2): 50,\n",
    "    (4, 3): 32,\n",
    "    (2, 3): 62,\n",
    "    (3, 9): 342,\n",
    "    (9, 7): 350,\n",
    "    (3, 8): 69,\n",
    "    (7, 8): 58,\n",
    "    (1, 2): 19,\n",
    "    (1, 0): 51,\n",
    "    (1, 5): 117,\n",
    "    (5, 8): 73,\n",
    "    (8, 6): 283,\n",
    "    (0, 6): 302,\n",
    "}"
   ]
  },
  {
   "cell_type": "code",
   "execution_count": 12,
   "metadata": {},
   "outputs": [
    {
     "data": {
      "text/plain": [
       "array([[inf, inf, inf, inf, inf, inf, inf, inf, inf, inf],\n",
       "       [inf, inf, inf, inf, inf, inf, inf, inf, inf, inf],\n",
       "       [inf, inf, inf, inf, inf, inf, inf, inf, inf, inf],\n",
       "       [inf, inf, inf, inf, inf, inf, inf, inf, inf, inf],\n",
       "       [inf, inf, inf, inf, inf, inf, inf, inf, inf, inf],\n",
       "       [inf, inf, inf, inf, inf, inf, inf, inf, inf, inf],\n",
       "       [inf, inf, inf, inf, inf, inf, inf, inf, inf, inf],\n",
       "       [inf, inf, inf, inf, inf, inf, inf, inf, inf, inf],\n",
       "       [inf, inf, inf, inf, inf, inf, inf, inf, inf, inf],\n",
       "       [inf, inf, inf, inf, inf, inf, inf, inf, inf, inf]])"
      ]
     },
     "execution_count": 12,
     "metadata": {},
     "output_type": "execute_result"
    }
   ],
   "source": [
    "num_nodes = len(nodes)\n",
    "adj_matrix = np.full((num_nodes, num_nodes), np.inf)\n",
    "adj_matrix"
   ]
  },
  {
   "cell_type": "code",
   "execution_count": 13,
   "metadata": {},
   "outputs": [],
   "source": [
    "for (node1, node2), distance in lines.items():\n",
    "    adj_matrix[node1, node2] = distance\n",
    "    adj_matrix[node2, node1] = distance"
   ]
  },
  {
   "cell_type": "code",
   "execution_count": 14,
   "metadata": {},
   "outputs": [],
   "source": [
    "def get_shortest_path(predecessors, start_node, end_node):\n",
    "    path = []\n",
    "    current_node = end_node\n",
    "    while current_node != start_node:\n",
    "        path.append(current_node)\n",
    "        current_node = predecessors[current_node]\n",
    "        if current_node == -9999:\n",
    "            return None\n",
    "    path.append(start_node)\n",
    "    path.reverse()\n",
    "    return path"
   ]
  },
  {
   "cell_type": "code",
   "execution_count": 15,
   "metadata": {},
   "outputs": [],
   "source": [
    "def get_key_from_value(d, value):\n",
    "    for key, val in d.items():\n",
    "        if val == value:\n",
    "            return key\n",
    "    return None"
   ]
  },
  {
   "cell_type": "code",
   "execution_count": 16,
   "metadata": {},
   "outputs": [
    {
     "name": "stdout",
     "output_type": "stream",
     "text": [
      "The shortest path from Shenzhen to Guangzhou is: ['Shenzhen', 'Zhongshan', 'Foshan', 'Guangzhou']\n",
      "Total distance from Shenzhen to Guangzhou: 150.0\n",
      "The shortest path from Huizhou to Zhanjiang is: ['Huizhou', 'Shenzhen', 'Zhuhai', 'Zhanjiang']\n",
      "Total distance from Huizhou to Zhanjiang: 481.0\n",
      "The shortest path from Shantou to Jiangmen is: ['Shantou', 'Shenzhen', 'Zhongshan', 'Jiangmen']\n",
      "Total distance from Shantou to Jiangmen: 384.0\n",
      "The shortest path from Dongguan to Zhanjiang is: ['Dongguan', 'Guangzhou', 'Foshan', 'Zhongshan', 'Zhanjiang']\n",
      "Total distance from Dongguan to Zhanjiang: 474.0\n"
     ]
    }
   ],
   "source": [
    "start_nodes = [\"Shenzhen\", \"Huizhou\", \"Shantou\", \"Dongguan\"]\n",
    "end_nodes = [\"Guangzhou\", \"Zhanjiang\", \"Jiangmen\", \"Zhanjiang\"]\n",
    "\n",
    "for start_node, end_node in zip(start_nodes, end_nodes):\n",
    "    start_node_idx = nodes[start_node]\n",
    "    end_node_idx = nodes[end_node]\n",
    "    distances, predecessors = dijkstra(csgraph=adj_matrix, directed=False, indices=start_node_idx, return_predecessors=True)\n",
    "    path = get_shortest_path(predecessors, start_node_idx, end_node_idx)\n",
    "    print(f\"The shortest path from {start_node} to {end_node} is: {[get_key_from_value(nodes, item) for item in path]}\")\n",
    "    print(f\"Total distance from {start_node} to {end_node}: {distances[end_node_idx]}\")\n"
   ]
  }
 ],
 "metadata": {
  "kernelspec": {
   "display_name": "Python 3",
   "language": "python",
   "name": "python3"
  },
  "language_info": {
   "codemirror_mode": {
    "name": "ipython",
    "version": 3
   },
   "file_extension": ".py",
   "mimetype": "text/x-python",
   "name": "python",
   "nbconvert_exporter": "python",
   "pygments_lexer": "ipython3",
   "version": "3.12.5"
  }
 },
 "nbformat": 4,
 "nbformat_minor": 2
}
